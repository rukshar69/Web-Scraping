{
 "cells": [
  {
   "cell_type": "code",
   "execution_count": 2,
   "metadata": {},
   "outputs": [
    {
     "data": {
      "text/plain": [
       "<firebase_admin.App at 0x7fd4e0ed5d30>"
      ]
     },
     "execution_count": 2,
     "metadata": {},
     "output_type": "execute_result"
    }
   ],
   "source": [
    "import firebase_admin\n",
    "\n",
    "from firebase_admin import credentials\n",
    "\n",
    "\n",
    "cred = credentials.Certificate(\"../api-10c65-firebase-adminsdk-lwr3s-a485e60c1f.json\")\n",
    "\n",
    "firebase_admin.initialize_app(cred)\n"
   ]
  },
  {
   "cell_type": "code",
   "execution_count": 6,
   "metadata": {},
   "outputs": [],
   "source": [
    "from firebase_admin import db"
   ]
  },
  {
   "cell_type": "code",
   "execution_count": 10,
   "metadata": {},
   "outputs": [],
   "source": [
    "# Connect to the Realtime Database\n",
    "db = firebase_admin.db"
   ]
  },
  {
   "cell_type": "code",
   "execution_count": 13,
   "metadata": {},
   "outputs": [
    {
     "ename": "ValueError",
     "evalue": "Invalid database URL: \"None\". Database URL must be a non-empty URL string.",
     "output_type": "error",
     "traceback": [
      "\u001b[0;31m---------------------------------------------------------------------------\u001b[0m",
      "\u001b[0;31mValueError\u001b[0m                                Traceback (most recent call last)",
      "Cell \u001b[0;32mIn[13], line 2\u001b[0m\n\u001b[1;32m      1\u001b[0m \u001b[39m# Retrieve a value from the database\u001b[39;00m\n\u001b[0;32m----> 2\u001b[0m ref \u001b[39m=\u001b[39m db\u001b[39m.\u001b[39;49mreference(\u001b[39m\"\u001b[39;49m\u001b[39m/\u001b[39;49m\u001b[39m\"\u001b[39;49m)\n",
      "File \u001b[0;32m~/anaconda3/envs/py39/lib/python3.9/site-packages/firebase_admin/db.py:69\u001b[0m, in \u001b[0;36mreference\u001b[0;34m(path, app, url)\u001b[0m\n\u001b[1;32m     49\u001b[0m \u001b[39m\u001b[39m\u001b[39m\"\"\"Returns a database ``Reference`` representing the node at the specified path.\u001b[39;00m\n\u001b[1;32m     50\u001b[0m \n\u001b[1;32m     51\u001b[0m \u001b[39mIf no path is specified, this function returns a ``Reference`` that represents the database\u001b[39;00m\n\u001b[0;32m   (...)\u001b[0m\n\u001b[1;32m     66\u001b[0m \u001b[39m  ValueError: If the specified path or app is invalid.\u001b[39;00m\n\u001b[1;32m     67\u001b[0m \u001b[39m\"\"\"\u001b[39;00m\n\u001b[1;32m     68\u001b[0m service \u001b[39m=\u001b[39m _utils\u001b[39m.\u001b[39mget_app_service(app, _DB_ATTRIBUTE, _DatabaseService)\n\u001b[0;32m---> 69\u001b[0m client \u001b[39m=\u001b[39m service\u001b[39m.\u001b[39;49mget_client(url)\n\u001b[1;32m     70\u001b[0m \u001b[39mreturn\u001b[39;00m Reference(client\u001b[39m=\u001b[39mclient, path\u001b[39m=\u001b[39mpath)\n",
      "File \u001b[0;32m~/anaconda3/envs/py39/lib/python3.9/site-packages/firebase_admin/db.py:798\u001b[0m, in \u001b[0;36m_DatabaseService.get_client\u001b[0;34m(self, db_url)\u001b[0m\n\u001b[1;32m    795\u001b[0m     db_url \u001b[39m=\u001b[39m \u001b[39mself\u001b[39m\u001b[39m.\u001b[39m_db_url\n\u001b[1;32m    797\u001b[0m \u001b[39mif\u001b[39;00m \u001b[39mnot\u001b[39;00m db_url \u001b[39mor\u001b[39;00m \u001b[39mnot\u001b[39;00m \u001b[39misinstance\u001b[39m(db_url, \u001b[39mstr\u001b[39m):\n\u001b[0;32m--> 798\u001b[0m     \u001b[39mraise\u001b[39;00m \u001b[39mValueError\u001b[39;00m(\n\u001b[1;32m    799\u001b[0m         \u001b[39m'\u001b[39m\u001b[39mInvalid database URL: \u001b[39m\u001b[39m\"\u001b[39m\u001b[39m{0}\u001b[39;00m\u001b[39m\"\u001b[39m\u001b[39m. Database URL must be a non-empty \u001b[39m\u001b[39m'\u001b[39m\n\u001b[1;32m    800\u001b[0m         \u001b[39m'\u001b[39m\u001b[39mURL string.\u001b[39m\u001b[39m'\u001b[39m\u001b[39m.\u001b[39mformat(db_url))\n\u001b[1;32m    802\u001b[0m parsed_url \u001b[39m=\u001b[39m parse\u001b[39m.\u001b[39murlparse(db_url)\n\u001b[1;32m    803\u001b[0m \u001b[39mif\u001b[39;00m \u001b[39mnot\u001b[39;00m parsed_url\u001b[39m.\u001b[39mnetloc:\n",
      "\u001b[0;31mValueError\u001b[0m: Invalid database URL: \"None\". Database URL must be a non-empty URL string."
     ]
    }
   ],
   "source": [
    "# Retrieve a value from the database\n",
    "ref = db.reference(\"/\")"
   ]
  },
  {
   "cell_type": "code",
   "execution_count": 9,
   "metadata": {},
   "outputs": [
    {
     "ename": "ValueError",
     "evalue": "Invalid database URL: \"None\". Database URL must be a non-empty URL string.",
     "output_type": "error",
     "traceback": [
      "\u001b[0;31m---------------------------------------------------------------------------\u001b[0m",
      "\u001b[0;31mValueError\u001b[0m                                Traceback (most recent call last)",
      "Cell \u001b[0;32mIn[9], line 1\u001b[0m\n\u001b[0;32m----> 1\u001b[0m ref \u001b[39m=\u001b[39m db\u001b[39m.\u001b[39;49mreference(\u001b[39m\"\u001b[39;49m\u001b[39mhttps://api-10c65-default-rtdb.firebaseio.com/\u001b[39;49m\u001b[39m\"\u001b[39;49m)\n",
      "File \u001b[0;32m~/anaconda3/envs/py39/lib/python3.9/site-packages/firebase_admin/db.py:69\u001b[0m, in \u001b[0;36mreference\u001b[0;34m(path, app, url)\u001b[0m\n\u001b[1;32m     49\u001b[0m \u001b[39m\u001b[39m\u001b[39m\"\"\"Returns a database ``Reference`` representing the node at the specified path.\u001b[39;00m\n\u001b[1;32m     50\u001b[0m \n\u001b[1;32m     51\u001b[0m \u001b[39mIf no path is specified, this function returns a ``Reference`` that represents the database\u001b[39;00m\n\u001b[0;32m   (...)\u001b[0m\n\u001b[1;32m     66\u001b[0m \u001b[39m  ValueError: If the specified path or app is invalid.\u001b[39;00m\n\u001b[1;32m     67\u001b[0m \u001b[39m\"\"\"\u001b[39;00m\n\u001b[1;32m     68\u001b[0m service \u001b[39m=\u001b[39m _utils\u001b[39m.\u001b[39mget_app_service(app, _DB_ATTRIBUTE, _DatabaseService)\n\u001b[0;32m---> 69\u001b[0m client \u001b[39m=\u001b[39m service\u001b[39m.\u001b[39;49mget_client(url)\n\u001b[1;32m     70\u001b[0m \u001b[39mreturn\u001b[39;00m Reference(client\u001b[39m=\u001b[39mclient, path\u001b[39m=\u001b[39mpath)\n",
      "File \u001b[0;32m~/anaconda3/envs/py39/lib/python3.9/site-packages/firebase_admin/db.py:798\u001b[0m, in \u001b[0;36m_DatabaseService.get_client\u001b[0;34m(self, db_url)\u001b[0m\n\u001b[1;32m    795\u001b[0m     db_url \u001b[39m=\u001b[39m \u001b[39mself\u001b[39m\u001b[39m.\u001b[39m_db_url\n\u001b[1;32m    797\u001b[0m \u001b[39mif\u001b[39;00m \u001b[39mnot\u001b[39;00m db_url \u001b[39mor\u001b[39;00m \u001b[39mnot\u001b[39;00m \u001b[39misinstance\u001b[39m(db_url, \u001b[39mstr\u001b[39m):\n\u001b[0;32m--> 798\u001b[0m     \u001b[39mraise\u001b[39;00m \u001b[39mValueError\u001b[39;00m(\n\u001b[1;32m    799\u001b[0m         \u001b[39m'\u001b[39m\u001b[39mInvalid database URL: \u001b[39m\u001b[39m\"\u001b[39m\u001b[39m{0}\u001b[39;00m\u001b[39m\"\u001b[39m\u001b[39m. Database URL must be a non-empty \u001b[39m\u001b[39m'\u001b[39m\n\u001b[1;32m    800\u001b[0m         \u001b[39m'\u001b[39m\u001b[39mURL string.\u001b[39m\u001b[39m'\u001b[39m\u001b[39m.\u001b[39mformat(db_url))\n\u001b[1;32m    802\u001b[0m parsed_url \u001b[39m=\u001b[39m parse\u001b[39m.\u001b[39murlparse(db_url)\n\u001b[1;32m    803\u001b[0m \u001b[39mif\u001b[39;00m \u001b[39mnot\u001b[39;00m parsed_url\u001b[39m.\u001b[39mnetloc:\n",
      "\u001b[0;31mValueError\u001b[0m: Invalid database URL: \"None\". Database URL must be a non-empty URL string."
     ]
    }
   ],
   "source": [
    "ref = db.reference(\"https://api-10c65-default-rtdb.firebaseio.com/\")"
   ]
  }
 ],
 "metadata": {
  "kernelspec": {
   "display_name": "py39",
   "language": "python",
   "name": "python3"
  },
  "language_info": {
   "codemirror_mode": {
    "name": "ipython",
    "version": 3
   },
   "file_extension": ".py",
   "mimetype": "text/x-python",
   "name": "python",
   "nbconvert_exporter": "python",
   "pygments_lexer": "ipython3",
   "version": "3.9.16"
  },
  "orig_nbformat": 4
 },
 "nbformat": 4,
 "nbformat_minor": 2
}
